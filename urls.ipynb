{
 "cells": [
  {
   "cell_type": "code",
   "execution_count": 2,
   "metadata": {},
   "outputs": [],
   "source": [
    "from bs4 import BeautifulSoup\n",
    "import requests\n",
    "import time\n",
    "import os"
   ]
  },
  {
   "cell_type": "code",
   "execution_count": 3,
   "metadata": {},
   "outputs": [],
   "source": [
    "DATA_DIR = 'data'\n",
    "STANDINGS_DIR = os.path.join(DATA_DIR, 'standings')\n",
    "SCORES_DIR = os.path.join(DATA_DIR, 'scores')\n",
    "\n",
    "os.makedirs(STANDINGS_DIR, exist_ok=True)\n",
    "os.makedirs(SCORES_DIR, exist_ok=True)"
   ]
  },
  {
   "cell_type": "code",
   "execution_count": 4,
   "metadata": {},
   "outputs": [],
   "source": [
    "years = [2020, 2021, 2022, 2023, 2024]\n",
    "full_urls_main = [] \n",
    "\n",
    "for year in years:\n",
    "    url_main = f'https://www.basketball-reference.com/leagues/NBA_{year}_games.html'\n",
    "    response_main = requests.get(url_main)\n",
    "    soup_main = BeautifulSoup(response_main.content, 'html.parser')\n",
    "\n",
    "    months_listed = soup_main.find_all('div', class_='filter')\n",
    "\n",
    "    for months in months_listed:\n",
    "        sub_months = months.find_all('a')\n",
    "        for sub_month in sub_months:\n",
    "            month_href = sub_month.get('href')\n",
    "            if month_href:\n",
    "                full_url_main = f'https://www.basketball-reference.com{month_href}'\n",
    "                full_urls_main.append(full_url_main)  "
   ]
  },
  {
   "cell_type": "code",
   "execution_count": null,
   "metadata": {},
   "outputs": [],
   "source": [
    "suburls = []\n",
    "\n",
    "for url in full_urls_main:\n",
    "    time.sleep(5) \n",
    "    try:\n",
    "        response = requests.get(url)\n",
    "        soup = BeautifulSoup(response.content, 'html.parser')\n",
    "        table = soup.find('table')\n",
    "\n",
    "        if table:\n",
    "            rows = table.find_all('tr')[1:]\n",
    "\n",
    "            for row in rows:\n",
    "                columns = row.find_all('td', class_='center')\n",
    "                for column in columns:\n",
    "                    subcols = column.find_all('a')\n",
    "                    for subcol in subcols:\n",
    "                        suburl = subcol.get('href')\n",
    "                        if suburl:\n",
    "                            full_url = f'https://www.basketball-reference.com{suburl}'\n",
    "                            suburls.append(full_url)\n",
    "\n",
    "            print(f\"Found {len(suburls)} game URLs on {url}\")\n",
    "        else:\n",
    "            print(f\"No table found on {url}\")\n",
    "\n",
    "    except Exception as e:\n",
    "        print(f\"Error fetching data from {url}: {e}\")"
   ]
  },
  {
   "cell_type": "code",
   "execution_count": null,
   "metadata": {},
   "outputs": [],
   "source": [
    "for url in suburls:\n",
    "    time.sleep(2) \n",
    "    try:\n",
    "        save_path = os.path.join(SCORES_DIR, url.split('/')[-1])\n",
    "        if os.path.exists(save_path):\n",
    "            continue\n",
    "\n",
    "        response = requests.get(url)\n",
    "        soup = BeautifulSoup(response.content, 'html.parser')\n",
    "        content_div = soup.find(id='content')\n",
    "        if content_div:\n",
    "            with open(save_path, 'w+', encoding='utf-8') as f:\n",
    "                f.write(content_div.prettify())\n",
    "      \n",
    "            print(f\"Saved main content of {url} to {save_path}\")\n",
    "        else:\n",
    "            print(f\"No #content found on {url}\")\n",
    "\n",
    "    except Exception as e:\n",
    "        print(f\"Error saving data from {url}: {e}\")"
   ]
  }
 ],
 "metadata": {
  "kernelspec": {
   "display_name": "Python 3",
   "language": "python",
   "name": "python3"
  },
  "language_info": {
   "codemirror_mode": {
    "name": "ipython",
    "version": 3
   },
   "file_extension": ".py",
   "mimetype": "text/x-python",
   "name": "python",
   "nbconvert_exporter": "python",
   "pygments_lexer": "ipython3",
   "version": "3.12.2"
  },
  "orig_nbformat": 4
 },
 "nbformat": 4,
 "nbformat_minor": 2
}
